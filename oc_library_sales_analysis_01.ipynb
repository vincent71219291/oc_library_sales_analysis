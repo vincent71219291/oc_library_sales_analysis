{
 "cells": [
  {
   "cell_type": "markdown",
   "id": "76f5c15f",
   "metadata": {
    "toc": true
   },
   "source": [
    "<h1>Table of Contents<span class=\"tocSkip\"></span></h1>\n",
    "<div class=\"toc\"><ul class=\"toc-item\"><li><span><a href=\"#Exploration-et-nettoyage-des-données\" data-toc-modified-id=\"Exploration-et-nettoyage-des-données-1\"><span class=\"toc-item-num\">1&nbsp;&nbsp;</span>Exploration et nettoyage des données</a></span><ul class=\"toc-item\"><li><span><a href=\"#Table-customers\" data-toc-modified-id=\"Table-customers-1.1\"><span class=\"toc-item-num\">1.1&nbsp;&nbsp;</span>Table customers</a></span></li><li><span><a href=\"#Table-products\" data-toc-modified-id=\"Table-products-1.2\"><span class=\"toc-item-num\">1.2&nbsp;&nbsp;</span>Table products</a></span></li><li><span><a href=\"#Table-transactions\" data-toc-modified-id=\"Table-transactions-1.3\"><span class=\"toc-item-num\">1.3&nbsp;&nbsp;</span>Table transactions</a></span></li></ul></li></ul></div>"
   ]
  },
  {
   "cell_type": "code",
   "execution_count": 1,
   "id": "f29e499e",
   "metadata": {},
   "outputs": [],
   "source": [
    "import os\n",
    "import numpy as np\n",
    "import pandas as pd\n",
    "import seaborn as sns\n",
    "\n",
    "import re\n",
    "\n",
    "from P6_functions import *"
   ]
  },
  {
   "cell_type": "code",
   "execution_count": 2,
   "id": "b29131f5",
   "metadata": {},
   "outputs": [
    {
     "data": {
      "text/plain": [
       "['customers.csv',\n",
       " 'customers_cleaned.pkl',\n",
       " 'products.csv',\n",
       " 'products_cleaned.pkl',\n",
       " 'products_imputed.pkl',\n",
       " 'pro_clients.pkl',\n",
       " 'transactions.csv',\n",
       " 'transactions_cleaned.pkl',\n",
       " 'txns_prods_merged.pkl']"
      ]
     },
     "execution_count": 2,
     "metadata": {},
     "output_type": "execute_result"
    }
   ],
   "source": [
    "os.listdir('../data')"
   ]
  },
  {
   "cell_type": "code",
   "execution_count": 3,
   "id": "04b759de",
   "metadata": {},
   "outputs": [],
   "source": [
    "# on importe les datasets\n",
    "customers = pd.read_csv('../data/customers.csv')\n",
    "products = pd.read_csv('../data/products.csv')\n",
    "transactions = pd.read_csv('../data/transactions.csv')"
   ]
  },
  {
   "cell_type": "code",
   "execution_count": 4,
   "id": "92ebfba9",
   "metadata": {},
   "outputs": [],
   "source": [
    "# on définit le thème visuel des graphiques\n",
    "sns.set_theme(style='whitegrid', palette='muted')"
   ]
  },
  {
   "cell_type": "markdown",
   "id": "889c1497",
   "metadata": {},
   "source": [
    "# Exploration et nettoyage des données"
   ]
  },
  {
   "cell_type": "markdown",
   "id": "a9ece2bd",
   "metadata": {},
   "source": [
    "## Table customers"
   ]
  },
  {
   "cell_type": "markdown",
   "id": "1d396d93-b258-4b22-8fe0-94dbe982c0c0",
   "metadata": {},
   "source": [
    "<div class=\"alert alert-block alert-info\">\n",
    "    <b>Résumé</b><br>\n",
    "    <ul>\n",
    "        <li>La table <code>customers</code> contient des informations sur chacun des clients telles que le sexe <code>sex</code> et l'année de naissance <code>birth</code>.</li>\n",
    "        <li>Les clients sont identifiés par la clé primaire <code>client_id</code>.</li>\n",
    "        <li>On a calculé l'âge des clients en 2022 à partir de l'année de naissance.</li>\n",
    "        </ul>\n",
    "</div>"
   ]
  },
  {
   "cell_type": "code",
   "execution_count": 5,
   "id": "47cdc7d0",
   "metadata": {},
   "outputs": [
    {
     "name": "stdout",
     "output_type": "stream",
     "text": [
      "La table contient 8623 observations et 3 variables.\n",
      "\n",
      "Aperçu de la table\n"
     ]
    },
    {
     "data": {
      "text/html": [
       "<div>\n",
       "<style scoped>\n",
       "    .dataframe tbody tr th:only-of-type {\n",
       "        vertical-align: middle;\n",
       "    }\n",
       "\n",
       "    .dataframe tbody tr th {\n",
       "        vertical-align: top;\n",
       "    }\n",
       "\n",
       "    .dataframe thead th {\n",
       "        text-align: right;\n",
       "    }\n",
       "</style>\n",
       "<table border=\"1\" class=\"dataframe\">\n",
       "  <thead>\n",
       "    <tr style=\"text-align: right;\">\n",
       "      <th></th>\n",
       "      <th>client_id</th>\n",
       "      <th>sex</th>\n",
       "      <th>birth</th>\n",
       "    </tr>\n",
       "  </thead>\n",
       "  <tbody>\n",
       "    <tr>\n",
       "      <th>0</th>\n",
       "      <td>c_4410</td>\n",
       "      <td>f</td>\n",
       "      <td>1967</td>\n",
       "    </tr>\n",
       "    <tr>\n",
       "      <th>1</th>\n",
       "      <td>c_7839</td>\n",
       "      <td>f</td>\n",
       "      <td>1975</td>\n",
       "    </tr>\n",
       "    <tr>\n",
       "      <th>2</th>\n",
       "      <td>c_1699</td>\n",
       "      <td>f</td>\n",
       "      <td>1984</td>\n",
       "    </tr>\n",
       "  </tbody>\n",
       "</table>\n",
       "</div>"
      ],
      "text/plain": [
       "  client_id sex  birth\n",
       "0    c_4410   f   1967\n",
       "1    c_7839   f   1975\n",
       "2    c_1699   f   1984"
      ]
     },
     "metadata": {},
     "output_type": "display_data"
    },
    {
     "name": "stdout",
     "output_type": "stream",
     "text": [
      "\n",
      "Description des variables\n"
     ]
    },
    {
     "data": {
      "text/html": [
       "<div>\n",
       "<style scoped>\n",
       "    .dataframe tbody tr th:only-of-type {\n",
       "        vertical-align: middle;\n",
       "    }\n",
       "\n",
       "    .dataframe tbody tr th {\n",
       "        vertical-align: top;\n",
       "    }\n",
       "\n",
       "    .dataframe thead th {\n",
       "        text-align: right;\n",
       "    }\n",
       "</style>\n",
       "<table border=\"1\" class=\"dataframe\">\n",
       "  <thead>\n",
       "    <tr style=\"text-align: right;\">\n",
       "      <th></th>\n",
       "      <th>Compte</th>\n",
       "      <th>Doublons</th>\n",
       "      <th>Valeurs manquantes</th>\n",
       "      <th>Modalités</th>\n",
       "      <th>Type</th>\n",
       "    </tr>\n",
       "  </thead>\n",
       "  <tbody>\n",
       "    <tr>\n",
       "      <th>client_id</th>\n",
       "      <td>8623</td>\n",
       "      <td>0</td>\n",
       "      <td>0</td>\n",
       "      <td>8623</td>\n",
       "      <td>object</td>\n",
       "    </tr>\n",
       "    <tr>\n",
       "      <th>sex</th>\n",
       "      <td>8623</td>\n",
       "      <td>8621</td>\n",
       "      <td>0</td>\n",
       "      <td>2</td>\n",
       "      <td>object</td>\n",
       "    </tr>\n",
       "    <tr>\n",
       "      <th>birth</th>\n",
       "      <td>8623</td>\n",
       "      <td>8547</td>\n",
       "      <td>0</td>\n",
       "      <td>76</td>\n",
       "      <td>int64</td>\n",
       "    </tr>\n",
       "  </tbody>\n",
       "</table>\n",
       "</div>"
      ],
      "text/plain": [
       "           Compte  Doublons  Valeurs manquantes  Modalités    Type\n",
       "client_id    8623         0                   0       8623  object\n",
       "sex          8623      8621                   0          2  object\n",
       "birth        8623      8547                   0         76   int64"
      ]
     },
     "metadata": {},
     "output_type": "display_data"
    },
    {
     "name": "stdout",
     "output_type": "stream",
     "text": [
      "\n",
      "Description des variables numériques\n"
     ]
    },
    {
     "data": {
      "text/html": [
       "<div>\n",
       "<style scoped>\n",
       "    .dataframe tbody tr th:only-of-type {\n",
       "        vertical-align: middle;\n",
       "    }\n",
       "\n",
       "    .dataframe tbody tr th {\n",
       "        vertical-align: top;\n",
       "    }\n",
       "\n",
       "    .dataframe thead th {\n",
       "        text-align: right;\n",
       "    }\n",
       "</style>\n",
       "<table border=\"1\" class=\"dataframe\">\n",
       "  <thead>\n",
       "    <tr style=\"text-align: right;\">\n",
       "      <th></th>\n",
       "      <th>Min</th>\n",
       "      <th>Max</th>\n",
       "      <th>Moyenne</th>\n",
       "      <th>Médiane</th>\n",
       "    </tr>\n",
       "  </thead>\n",
       "  <tbody>\n",
       "    <tr>\n",
       "      <th>birth</th>\n",
       "      <td>1929</td>\n",
       "      <td>2004</td>\n",
       "      <td>1978.280877</td>\n",
       "      <td>1979.0</td>\n",
       "    </tr>\n",
       "  </tbody>\n",
       "</table>\n",
       "</div>"
      ],
      "text/plain": [
       "        Min   Max      Moyenne  Médiane\n",
       "birth  1929  2004  1978.280877   1979.0"
      ]
     },
     "metadata": {},
     "output_type": "display_data"
    },
    {
     "name": "stdout",
     "output_type": "stream",
     "text": [
      "\n",
      "Clé primaire\n",
      "------------\n",
      "Toutes les valeurs de la clé primaire ['client_id'] sont uniques.\n",
      "Aucune des valeurs de ['client_id'] n'est manquante.\n"
     ]
    }
   ],
   "source": [
    "describe_table(customers, pk='client_id')"
   ]
  },
  {
   "cell_type": "markdown",
   "id": "43fed2fa",
   "metadata": {},
   "source": [
    "On modifie les dtypes des variables."
   ]
  },
  {
   "cell_type": "code",
   "execution_count": 6,
   "id": "1229aaeb",
   "metadata": {},
   "outputs": [
    {
     "data": {
      "text/plain": [
       "client_id      string\n",
       "sex          category\n",
       "birth           int32\n",
       "dtype: object"
      ]
     },
     "execution_count": 6,
     "metadata": {},
     "output_type": "execute_result"
    }
   ],
   "source": [
    "dtype_dict = {\n",
    "    'client_id': 'string',\n",
    "    'sex': 'category',\n",
    "    'birth': 'int32'\n",
    "}\n",
    "\n",
    "customers = customers.astype(dtype_dict)\n",
    "customers.dtypes"
   ]
  },
  {
   "cell_type": "markdown",
   "id": "9feb6132",
   "metadata": {},
   "source": [
    "On calcule l'âge des clients en 2022.\n",
    "\n",
    "<font color='grey'>Note : Pour simplifier l'analyse, nous avons décidé d'attribuer un âge fixe aux clients. Les transactions s'étalant sur la période de 2021 à 2023, nous avons choisi l'année moyenne 2022.</font>"
   ]
  },
  {
   "cell_type": "code",
   "execution_count": 7,
   "id": "3cd56fda",
   "metadata": {},
   "outputs": [
    {
     "data": {
      "text/html": [
       "<div>\n",
       "<style scoped>\n",
       "    .dataframe tbody tr th:only-of-type {\n",
       "        vertical-align: middle;\n",
       "    }\n",
       "\n",
       "    .dataframe tbody tr th {\n",
       "        vertical-align: top;\n",
       "    }\n",
       "\n",
       "    .dataframe thead th {\n",
       "        text-align: right;\n",
       "    }\n",
       "</style>\n",
       "<table border=\"1\" class=\"dataframe\">\n",
       "  <thead>\n",
       "    <tr style=\"text-align: right;\">\n",
       "      <th></th>\n",
       "      <th>client_id</th>\n",
       "      <th>sex</th>\n",
       "      <th>birth</th>\n",
       "      <th>age</th>\n",
       "    </tr>\n",
       "  </thead>\n",
       "  <tbody>\n",
       "    <tr>\n",
       "      <th>0</th>\n",
       "      <td>c_4410</td>\n",
       "      <td>f</td>\n",
       "      <td>1967</td>\n",
       "      <td>55</td>\n",
       "    </tr>\n",
       "    <tr>\n",
       "      <th>1</th>\n",
       "      <td>c_7839</td>\n",
       "      <td>f</td>\n",
       "      <td>1975</td>\n",
       "      <td>47</td>\n",
       "    </tr>\n",
       "    <tr>\n",
       "      <th>2</th>\n",
       "      <td>c_1699</td>\n",
       "      <td>f</td>\n",
       "      <td>1984</td>\n",
       "      <td>38</td>\n",
       "    </tr>\n",
       "  </tbody>\n",
       "</table>\n",
       "</div>"
      ],
      "text/plain": [
       "  client_id sex  birth  age\n",
       "0    c_4410   f   1967   55\n",
       "1    c_7839   f   1975   47\n",
       "2    c_1699   f   1984   38"
      ]
     },
     "execution_count": 7,
     "metadata": {},
     "output_type": "execute_result"
    }
   ],
   "source": [
    "customers['age'] = 2022 - customers['birth']\n",
    "customers.head(3)"
   ]
  },
  {
   "cell_type": "markdown",
   "id": "20c090a8",
   "metadata": {},
   "source": [
    "## Table products"
   ]
  },
  {
   "cell_type": "markdown",
   "id": "b7b32049-86f9-4c6c-8abb-fdc8b4689fb3",
   "metadata": {},
   "source": [
    "<div class=\"alert alert-block alert-info\">\n",
    "    <b>Résumé</b><br>\n",
    "    <ul>\n",
    "        <li>La table <code>products</code> contient des informations sur les références telles que le prix <code>price</code> et la catégorie du livre <code>categ</code>.</li>\n",
    "        <li>Les références sont identifiées par la clé primaire <code>id_prod</code>.\n",
    "        <li>3287 produits sont référencés.</li>\n",
    "        <li>Il existe trois catégories de produits différentes (0, 1, 2).</li>\n",
    "        <li>L'identifiant produit est composé du numéro de la catégorie et d'un identifiant d'un à quatre chiffres.</li>\n",
    "        <li>On observe une anomalie dans les données : la référence \"T_0\" a un prix négatif. De plus, la première partie de l'id_prod de cette référence (\"T\") ne correspond à aucune des trois catégories mentionnées ci-dessus.</li>\n",
    "        </ul>\n",
    "</div>"
   ]
  },
  {
   "cell_type": "code",
   "execution_count": 9,
   "id": "622a88f8",
   "metadata": {},
   "outputs": [
    {
     "name": "stdout",
     "output_type": "stream",
     "text": [
      "La table contient 3287 observations et 3 variables.\n",
      "\n",
      "Aperçu de la table\n"
     ]
    },
    {
     "data": {
      "text/html": [
       "<div>\n",
       "<style scoped>\n",
       "    .dataframe tbody tr th:only-of-type {\n",
       "        vertical-align: middle;\n",
       "    }\n",
       "\n",
       "    .dataframe tbody tr th {\n",
       "        vertical-align: top;\n",
       "    }\n",
       "\n",
       "    .dataframe thead th {\n",
       "        text-align: right;\n",
       "    }\n",
       "</style>\n",
       "<table border=\"1\" class=\"dataframe\">\n",
       "  <thead>\n",
       "    <tr style=\"text-align: right;\">\n",
       "      <th></th>\n",
       "      <th>id_prod</th>\n",
       "      <th>price</th>\n",
       "      <th>categ</th>\n",
       "    </tr>\n",
       "  </thead>\n",
       "  <tbody>\n",
       "    <tr>\n",
       "      <th>0</th>\n",
       "      <td>0_1421</td>\n",
       "      <td>19.99</td>\n",
       "      <td>0</td>\n",
       "    </tr>\n",
       "    <tr>\n",
       "      <th>1</th>\n",
       "      <td>0_1368</td>\n",
       "      <td>5.13</td>\n",
       "      <td>0</td>\n",
       "    </tr>\n",
       "    <tr>\n",
       "      <th>2</th>\n",
       "      <td>0_731</td>\n",
       "      <td>17.99</td>\n",
       "      <td>0</td>\n",
       "    </tr>\n",
       "  </tbody>\n",
       "</table>\n",
       "</div>"
      ],
      "text/plain": [
       "  id_prod  price  categ\n",
       "0  0_1421  19.99      0\n",
       "1  0_1368   5.13      0\n",
       "2   0_731  17.99      0"
      ]
     },
     "metadata": {},
     "output_type": "display_data"
    },
    {
     "name": "stdout",
     "output_type": "stream",
     "text": [
      "\n",
      "Description des variables\n"
     ]
    },
    {
     "data": {
      "text/html": [
       "<div>\n",
       "<style scoped>\n",
       "    .dataframe tbody tr th:only-of-type {\n",
       "        vertical-align: middle;\n",
       "    }\n",
       "\n",
       "    .dataframe tbody tr th {\n",
       "        vertical-align: top;\n",
       "    }\n",
       "\n",
       "    .dataframe thead th {\n",
       "        text-align: right;\n",
       "    }\n",
       "</style>\n",
       "<table border=\"1\" class=\"dataframe\">\n",
       "  <thead>\n",
       "    <tr style=\"text-align: right;\">\n",
       "      <th></th>\n",
       "      <th>Compte</th>\n",
       "      <th>Doublons</th>\n",
       "      <th>Valeurs manquantes</th>\n",
       "      <th>Modalités</th>\n",
       "      <th>Type</th>\n",
       "    </tr>\n",
       "  </thead>\n",
       "  <tbody>\n",
       "    <tr>\n",
       "      <th>id_prod</th>\n",
       "      <td>3287</td>\n",
       "      <td>0</td>\n",
       "      <td>0</td>\n",
       "      <td>3287</td>\n",
       "      <td>object</td>\n",
       "    </tr>\n",
       "    <tr>\n",
       "      <th>price</th>\n",
       "      <td>3287</td>\n",
       "      <td>1832</td>\n",
       "      <td>0</td>\n",
       "      <td>1455</td>\n",
       "      <td>float64</td>\n",
       "    </tr>\n",
       "    <tr>\n",
       "      <th>categ</th>\n",
       "      <td>3287</td>\n",
       "      <td>3284</td>\n",
       "      <td>0</td>\n",
       "      <td>3</td>\n",
       "      <td>int64</td>\n",
       "    </tr>\n",
       "  </tbody>\n",
       "</table>\n",
       "</div>"
      ],
      "text/plain": [
       "         Compte  Doublons  Valeurs manquantes  Modalités     Type\n",
       "id_prod    3287         0                   0       3287   object\n",
       "price      3287      1832                   0       1455  float64\n",
       "categ      3287      3284                   0          3    int64"
      ]
     },
     "metadata": {},
     "output_type": "display_data"
    },
    {
     "name": "stdout",
     "output_type": "stream",
     "text": [
      "\n",
      "Description des variables numériques\n"
     ]
    },
    {
     "data": {
      "text/html": [
       "<div>\n",
       "<style scoped>\n",
       "    .dataframe tbody tr th:only-of-type {\n",
       "        vertical-align: middle;\n",
       "    }\n",
       "\n",
       "    .dataframe tbody tr th {\n",
       "        vertical-align: top;\n",
       "    }\n",
       "\n",
       "    .dataframe thead th {\n",
       "        text-align: right;\n",
       "    }\n",
       "</style>\n",
       "<table border=\"1\" class=\"dataframe\">\n",
       "  <thead>\n",
       "    <tr style=\"text-align: right;\">\n",
       "      <th></th>\n",
       "      <th>Min</th>\n",
       "      <th>Max</th>\n",
       "      <th>Moyenne</th>\n",
       "      <th>Médiane</th>\n",
       "    </tr>\n",
       "  </thead>\n",
       "  <tbody>\n",
       "    <tr>\n",
       "      <th>price</th>\n",
       "      <td>-1.0</td>\n",
       "      <td>300.0</td>\n",
       "      <td>21.856641</td>\n",
       "      <td>13.06</td>\n",
       "    </tr>\n",
       "    <tr>\n",
       "      <th>categ</th>\n",
       "      <td>0.0</td>\n",
       "      <td>2.0</td>\n",
       "      <td>0.370246</td>\n",
       "      <td>0.00</td>\n",
       "    </tr>\n",
       "  </tbody>\n",
       "</table>\n",
       "</div>"
      ],
      "text/plain": [
       "       Min    Max    Moyenne  Médiane\n",
       "price -1.0  300.0  21.856641    13.06\n",
       "categ  0.0    2.0   0.370246     0.00"
      ]
     },
     "metadata": {},
     "output_type": "display_data"
    },
    {
     "name": "stdout",
     "output_type": "stream",
     "text": [
      "\n",
      "Clé primaire\n",
      "------------\n",
      "Toutes les valeurs de la clé primaire ['id_prod'] sont uniques.\n",
      "Aucune des valeurs de ['id_prod'] n'est manquante.\n"
     ]
    }
   ],
   "source": [
    "describe_table(products, pk='id_prod')"
   ]
  },
  {
   "cell_type": "markdown",
   "id": "78118892",
   "metadata": {},
   "source": [
    "On modifie les dtypes des variables. On convertit la variable `categ` en `string` puis en `category`."
   ]
  },
  {
   "cell_type": "code",
   "execution_count": 10,
   "id": "7780be41",
   "metadata": {},
   "outputs": [
    {
     "data": {
      "text/plain": [
       "id_prod      string\n",
       "price       float64\n",
       "categ      category\n",
       "dtype: object"
      ]
     },
     "execution_count": 10,
     "metadata": {},
     "output_type": "execute_result"
    }
   ],
   "source": [
    "dtype_dict = {\n",
    "    'id_prod': 'string',\n",
    "    'price': 'float',\n",
    "    'categ': 'string',\n",
    "}\n",
    "\n",
    "products = products.astype(dtype_dict)\n",
    "products['categ'] = products['categ'].astype('category')\n",
    "products.dtypes"
   ]
  },
  {
   "cell_type": "markdown",
   "id": "49a1ea65-77d5-4eea-a2e3-0ded92b77fc9",
   "metadata": {},
   "source": [
    "On examine de plus près les différentes variables à commencer par `id_prod`."
   ]
  },
  {
   "cell_type": "code",
   "execution_count": 11,
   "id": "7ae65d93",
   "metadata": {},
   "outputs": [
    {
     "data": {
      "text/html": [
       "<div>\n",
       "<style scoped>\n",
       "    .dataframe tbody tr th:only-of-type {\n",
       "        vertical-align: middle;\n",
       "    }\n",
       "\n",
       "    .dataframe tbody tr th {\n",
       "        vertical-align: top;\n",
       "    }\n",
       "\n",
       "    .dataframe thead th {\n",
       "        text-align: right;\n",
       "    }\n",
       "</style>\n",
       "<table border=\"1\" class=\"dataframe\">\n",
       "  <thead>\n",
       "    <tr style=\"text-align: right;\">\n",
       "      <th></th>\n",
       "      <th>id_prod</th>\n",
       "      <th>price</th>\n",
       "      <th>categ</th>\n",
       "    </tr>\n",
       "  </thead>\n",
       "  <tbody>\n",
       "    <tr>\n",
       "      <th>2464</th>\n",
       "      <td>2_3</td>\n",
       "      <td>202.99</td>\n",
       "      <td>2</td>\n",
       "    </tr>\n",
       "  </tbody>\n",
       "</table>\n",
       "</div>"
      ],
      "text/plain": [
       "     id_prod   price categ\n",
       "2464     2_3  202.99     2"
      ]
     },
     "execution_count": 11,
     "metadata": {},
     "output_type": "execute_result"
    }
   ],
   "source": [
    "# taille minimale de l'id_prod\n",
    "products.sort_values(by='id_prod', key=lambda x: x.str.len(), ascending=True).head(1)\n",
    "# products['id_prod'].apply(len).min()"
   ]
  },
  {
   "cell_type": "code",
   "execution_count": 12,
   "id": "0a5cce47",
   "metadata": {},
   "outputs": [
    {
     "data": {
      "text/html": [
       "<div>\n",
       "<style scoped>\n",
       "    .dataframe tbody tr th:only-of-type {\n",
       "        vertical-align: middle;\n",
       "    }\n",
       "\n",
       "    .dataframe tbody tr th {\n",
       "        vertical-align: top;\n",
       "    }\n",
       "\n",
       "    .dataframe thead th {\n",
       "        text-align: right;\n",
       "    }\n",
       "</style>\n",
       "<table border=\"1\" class=\"dataframe\">\n",
       "  <thead>\n",
       "    <tr style=\"text-align: right;\">\n",
       "      <th></th>\n",
       "      <th>id_prod</th>\n",
       "      <th>price</th>\n",
       "      <th>categ</th>\n",
       "    </tr>\n",
       "  </thead>\n",
       "  <tbody>\n",
       "    <tr>\n",
       "      <th>0</th>\n",
       "      <td>0_1421</td>\n",
       "      <td>19.99</td>\n",
       "      <td>0</td>\n",
       "    </tr>\n",
       "  </tbody>\n",
       "</table>\n",
       "</div>"
      ],
      "text/plain": [
       "  id_prod  price categ\n",
       "0  0_1421  19.99     0"
      ]
     },
     "execution_count": 12,
     "metadata": {},
     "output_type": "execute_result"
    }
   ],
   "source": [
    "# taille maximale de l'id_prod\n",
    "products.sort_values(by='id_prod', key=lambda x: x.str.len(), ascending=False).head(1)"
   ]
  },
  {
   "cell_type": "markdown",
   "id": "7e06905b",
   "metadata": {},
   "source": [
    "L'identifiant semble être composé de la catégorie du produit suivi d'un numéro d'un à quatre chiffres. On vérifie que le premier caractère correspond toujours à la catégorie du produit."
   ]
  },
  {
   "cell_type": "code",
   "execution_count": 13,
   "id": "c8fe24f5",
   "metadata": {},
   "outputs": [
    {
     "data": {
      "text/plain": [
       "True     3286\n",
       "False       1\n",
       "dtype: int64"
      ]
     },
     "execution_count": 13,
     "metadata": {},
     "output_type": "execute_result"
    }
   ],
   "source": [
    "mask = products['id_prod'].apply(lambda x: x[0]) == products['categ']\n",
    "mask.value_counts()"
   ]
  },
  {
   "cell_type": "markdown",
   "id": "e90c14e8",
   "metadata": {},
   "source": [
    "On observe un produit pour lequel ce n'est pas le cas."
   ]
  },
  {
   "cell_type": "code",
   "execution_count": 14,
   "id": "e252c390",
   "metadata": {},
   "outputs": [
    {
     "data": {
      "text/html": [
       "<div>\n",
       "<style scoped>\n",
       "    .dataframe tbody tr th:only-of-type {\n",
       "        vertical-align: middle;\n",
       "    }\n",
       "\n",
       "    .dataframe tbody tr th {\n",
       "        vertical-align: top;\n",
       "    }\n",
       "\n",
       "    .dataframe thead th {\n",
       "        text-align: right;\n",
       "    }\n",
       "</style>\n",
       "<table border=\"1\" class=\"dataframe\">\n",
       "  <thead>\n",
       "    <tr style=\"text-align: right;\">\n",
       "      <th></th>\n",
       "      <th>id_prod</th>\n",
       "      <th>price</th>\n",
       "      <th>categ</th>\n",
       "    </tr>\n",
       "  </thead>\n",
       "  <tbody>\n",
       "    <tr>\n",
       "      <th>731</th>\n",
       "      <td>T_0</td>\n",
       "      <td>-1.0</td>\n",
       "      <td>0</td>\n",
       "    </tr>\n",
       "  </tbody>\n",
       "</table>\n",
       "</div>"
      ],
      "text/plain": [
       "    id_prod  price categ\n",
       "731     T_0   -1.0     0"
      ]
     },
     "execution_count": 14,
     "metadata": {},
     "output_type": "execute_result"
    }
   ],
   "source": [
    "products.loc[~mask]"
   ]
  },
  {
   "cell_type": "markdown",
   "id": "474b5f2c",
   "metadata": {},
   "source": [
    "Seule la référence \"T_0\" ne suit pas cette règle. A noter également que le prix de \"T_0\" est négatif."
   ]
  },
  {
   "cell_type": "markdown",
   "id": "5a392f3a-6144-4476-b315-05fb27c6362a",
   "metadata": {},
   "source": [
    "On peut également contrôler cela grâce aux expressions régulières."
   ]
  },
  {
   "cell_type": "code",
   "execution_count": 15,
   "id": "642f2833",
   "metadata": {},
   "outputs": [],
   "source": [
    "id_regex = re.compile(r'[0-2]_\\d{1,4}')"
   ]
  },
  {
   "cell_type": "code",
   "execution_count": 16,
   "id": "8ae808dd-d2a1-41b3-b291-335b5f17ef0a",
   "metadata": {},
   "outputs": [
    {
     "data": {
      "text/html": [
       "<div>\n",
       "<style scoped>\n",
       "    .dataframe tbody tr th:only-of-type {\n",
       "        vertical-align: middle;\n",
       "    }\n",
       "\n",
       "    .dataframe tbody tr th {\n",
       "        vertical-align: top;\n",
       "    }\n",
       "\n",
       "    .dataframe thead th {\n",
       "        text-align: right;\n",
       "    }\n",
       "</style>\n",
       "<table border=\"1\" class=\"dataframe\">\n",
       "  <thead>\n",
       "    <tr style=\"text-align: right;\">\n",
       "      <th></th>\n",
       "      <th>id_prod</th>\n",
       "      <th>price</th>\n",
       "      <th>categ</th>\n",
       "    </tr>\n",
       "  </thead>\n",
       "  <tbody>\n",
       "    <tr>\n",
       "      <th>731</th>\n",
       "      <td>T_0</td>\n",
       "      <td>-1.0</td>\n",
       "      <td>0</td>\n",
       "    </tr>\n",
       "  </tbody>\n",
       "</table>\n",
       "</div>"
      ],
      "text/plain": [
       "    id_prod  price categ\n",
       "731     T_0   -1.0     0"
      ]
     },
     "execution_count": 16,
     "metadata": {},
     "output_type": "execute_result"
    }
   ],
   "source": [
    "mask = products['id_prod'].apply(lambda x: re.fullmatch(id_regex, x)).isnull()\n",
    "products.loc[mask]"
   ]
  },
  {
   "cell_type": "markdown",
   "id": "6ada65eb",
   "metadata": {},
   "source": [
    "On vérifie si d'autres références ont un prix inférieur ou égal à zéro."
   ]
  },
  {
   "cell_type": "code",
   "execution_count": 17,
   "id": "e5b3e1f3",
   "metadata": {},
   "outputs": [
    {
     "data": {
      "text/html": [
       "<div>\n",
       "<style scoped>\n",
       "    .dataframe tbody tr th:only-of-type {\n",
       "        vertical-align: middle;\n",
       "    }\n",
       "\n",
       "    .dataframe tbody tr th {\n",
       "        vertical-align: top;\n",
       "    }\n",
       "\n",
       "    .dataframe thead th {\n",
       "        text-align: right;\n",
       "    }\n",
       "</style>\n",
       "<table border=\"1\" class=\"dataframe\">\n",
       "  <thead>\n",
       "    <tr style=\"text-align: right;\">\n",
       "      <th></th>\n",
       "      <th>id_prod</th>\n",
       "      <th>price</th>\n",
       "      <th>categ</th>\n",
       "    </tr>\n",
       "  </thead>\n",
       "  <tbody>\n",
       "    <tr>\n",
       "      <th>731</th>\n",
       "      <td>T_0</td>\n",
       "      <td>-1.0</td>\n",
       "      <td>0</td>\n",
       "    </tr>\n",
       "  </tbody>\n",
       "</table>\n",
       "</div>"
      ],
      "text/plain": [
       "    id_prod  price categ\n",
       "731     T_0   -1.0     0"
      ]
     },
     "execution_count": 17,
     "metadata": {},
     "output_type": "execute_result"
    }
   ],
   "source": [
    "products.loc[products['price'] <= 0]"
   ]
  },
  {
   "cell_type": "markdown",
   "id": "667818c4",
   "metadata": {},
   "source": [
    "Le produit \"T_0\" a un identifiant atypique et un prix négatif. Il pourrait donc constituer une anomalie."
   ]
  },
  {
   "cell_type": "markdown",
   "id": "f92f650a",
   "metadata": {},
   "source": [
    "## Table transactions"
   ]
  },
  {
   "cell_type": "markdown",
   "id": "cb67050a-9eb3-4b2f-abf0-dd76df1a4878",
   "metadata": {},
   "source": [
    "<div class=\"alert alert-block alert-info\">\n",
    "    <b>Résumé</b><br>\n",
    "    <ul>\n",
    "        <li>La table <code>transactions</code> contient, outre les clés étrangères <code>id_prod</code> et <code>client_id</code>, la date de chaque transaction à la microseconde près (colonne <code>date</code>) et un identifiant de la session (<code>session_id</code>).</li>\n",
    "        <li>Elle contient 200 transactions tests dont l'identifiant produit est \"T_0\" (qui correspond à l'anomalie repérée précédemment dans la table <code>products</code>).</li>\n",
    "        <li>Elle contient 679 332 lignes/transactions après élimination de ces tests.</li>\n",
    "        <li>Chaque date est unique (une fois les tests éliminés). La colonne <code>date</code> constitue donc la clé primaire de cette table ; une date correspond à une vente.</li>\n",
    "    </ul>\n",
    "</div>"
   ]
  },
  {
   "cell_type": "markdown",
   "id": "57b91579",
   "metadata": {},
   "source": [
    "On stocke les lignes ayant la même clé primaire dans le dataframe `pk_dups`."
   ]
  },
  {
   "cell_type": "code",
   "execution_count": 18,
   "id": "6ca6be73",
   "metadata": {},
   "outputs": [
    {
     "name": "stdout",
     "output_type": "stream",
     "text": [
      "La table contient 679532 observations et 4 variables.\n",
      "\n",
      "Aperçu de la table\n"
     ]
    },
    {
     "data": {
      "text/html": [
       "<div>\n",
       "<style scoped>\n",
       "    .dataframe tbody tr th:only-of-type {\n",
       "        vertical-align: middle;\n",
       "    }\n",
       "\n",
       "    .dataframe tbody tr th {\n",
       "        vertical-align: top;\n",
       "    }\n",
       "\n",
       "    .dataframe thead th {\n",
       "        text-align: right;\n",
       "    }\n",
       "</style>\n",
       "<table border=\"1\" class=\"dataframe\">\n",
       "  <thead>\n",
       "    <tr style=\"text-align: right;\">\n",
       "      <th></th>\n",
       "      <th>id_prod</th>\n",
       "      <th>date</th>\n",
       "      <th>session_id</th>\n",
       "      <th>client_id</th>\n",
       "    </tr>\n",
       "  </thead>\n",
       "  <tbody>\n",
       "    <tr>\n",
       "      <th>0</th>\n",
       "      <td>0_1518</td>\n",
       "      <td>2022-05-20 13:21:29.043970</td>\n",
       "      <td>s_211425</td>\n",
       "      <td>c_103</td>\n",
       "    </tr>\n",
       "    <tr>\n",
       "      <th>1</th>\n",
       "      <td>1_251</td>\n",
       "      <td>2022-02-02 07:55:19.149409</td>\n",
       "      <td>s_158752</td>\n",
       "      <td>c_8534</td>\n",
       "    </tr>\n",
       "    <tr>\n",
       "      <th>2</th>\n",
       "      <td>0_1277</td>\n",
       "      <td>2022-06-18 15:44:33.155329</td>\n",
       "      <td>s_225667</td>\n",
       "      <td>c_6714</td>\n",
       "    </tr>\n",
       "  </tbody>\n",
       "</table>\n",
       "</div>"
      ],
      "text/plain": [
       "  id_prod                        date session_id client_id\n",
       "0  0_1518  2022-05-20 13:21:29.043970   s_211425     c_103\n",
       "1   1_251  2022-02-02 07:55:19.149409   s_158752    c_8534\n",
       "2  0_1277  2022-06-18 15:44:33.155329   s_225667    c_6714"
      ]
     },
     "metadata": {},
     "output_type": "display_data"
    },
    {
     "name": "stdout",
     "output_type": "stream",
     "text": [
      "\n",
      "Description des variables\n"
     ]
    },
    {
     "data": {
      "text/html": [
       "<div>\n",
       "<style scoped>\n",
       "    .dataframe tbody tr th:only-of-type {\n",
       "        vertical-align: middle;\n",
       "    }\n",
       "\n",
       "    .dataframe tbody tr th {\n",
       "        vertical-align: top;\n",
       "    }\n",
       "\n",
       "    .dataframe thead th {\n",
       "        text-align: right;\n",
       "    }\n",
       "</style>\n",
       "<table border=\"1\" class=\"dataframe\">\n",
       "  <thead>\n",
       "    <tr style=\"text-align: right;\">\n",
       "      <th></th>\n",
       "      <th>Compte</th>\n",
       "      <th>Doublons</th>\n",
       "      <th>Valeurs manquantes</th>\n",
       "      <th>Modalités</th>\n",
       "      <th>Type</th>\n",
       "    </tr>\n",
       "  </thead>\n",
       "  <tbody>\n",
       "    <tr>\n",
       "      <th>id_prod</th>\n",
       "      <td>679532</td>\n",
       "      <td>676265</td>\n",
       "      <td>0</td>\n",
       "      <td>3267</td>\n",
       "      <td>object</td>\n",
       "    </tr>\n",
       "    <tr>\n",
       "      <th>date</th>\n",
       "      <td>679532</td>\n",
       "      <td>161</td>\n",
       "      <td>0</td>\n",
       "      <td>679371</td>\n",
       "      <td>object</td>\n",
       "    </tr>\n",
       "    <tr>\n",
       "      <th>session_id</th>\n",
       "      <td>679532</td>\n",
       "      <td>337216</td>\n",
       "      <td>0</td>\n",
       "      <td>342316</td>\n",
       "      <td>object</td>\n",
       "    </tr>\n",
       "    <tr>\n",
       "      <th>client_id</th>\n",
       "      <td>679532</td>\n",
       "      <td>670930</td>\n",
       "      <td>0</td>\n",
       "      <td>8602</td>\n",
       "      <td>object</td>\n",
       "    </tr>\n",
       "  </tbody>\n",
       "</table>\n",
       "</div>"
      ],
      "text/plain": [
       "            Compte  Doublons  Valeurs manquantes  Modalités    Type\n",
       "id_prod     679532    676265                   0       3267  object\n",
       "date        679532       161                   0     679371  object\n",
       "session_id  679532    337216                   0     342316  object\n",
       "client_id   679532    670930                   0       8602  object"
      ]
     },
     "metadata": {},
     "output_type": "display_data"
    },
    {
     "name": "stdout",
     "output_type": "stream",
     "text": [
      "\n",
      "Clé primaire\n",
      "------------\n",
      "198 valeurs de la clé primaire ['date', 'session_id'] ne sont pas uniques.\n",
      "Aucune des valeurs de ['date', 'session_id'] n'est manquante.\n"
     ]
    }
   ],
   "source": [
    "pk_dups, _ = describe_table(transactions, pk=['date', 'session_id'], return_res=True)"
   ]
  },
  {
   "cell_type": "markdown",
   "id": "930540f0",
   "metadata": {},
   "source": [
    "On change les dtypes des variables."
   ]
  },
  {
   "cell_type": "code",
   "execution_count": 19,
   "id": "3f138f1d",
   "metadata": {},
   "outputs": [
    {
     "data": {
      "text/plain": [
       "id_prod       string\n",
       "date          object\n",
       "session_id    string\n",
       "client_id     string\n",
       "dtype: object"
      ]
     },
     "execution_count": 19,
     "metadata": {},
     "output_type": "execute_result"
    }
   ],
   "source": [
    "dtype_dict = {\n",
    "    'id_prod': 'string',\n",
    "    'session_id': 'string',\n",
    "    'client_id': 'string'\n",
    "}\n",
    "\n",
    "transactions = transactions.astype(dtype_dict)\n",
    "transactions.dtypes"
   ]
  },
  {
   "cell_type": "code",
   "execution_count": 20,
   "id": "2eea1764-716c-4c04-9903-58af6ccf6ad8",
   "metadata": {},
   "outputs": [
    {
     "data": {
      "text/html": [
       "<div>\n",
       "<style scoped>\n",
       "    .dataframe tbody tr th:only-of-type {\n",
       "        vertical-align: middle;\n",
       "    }\n",
       "\n",
       "    .dataframe tbody tr th {\n",
       "        vertical-align: top;\n",
       "    }\n",
       "\n",
       "    .dataframe thead th {\n",
       "        text-align: right;\n",
       "    }\n",
       "</style>\n",
       "<table border=\"1\" class=\"dataframe\">\n",
       "  <thead>\n",
       "    <tr style=\"text-align: right;\">\n",
       "      <th></th>\n",
       "      <th>id_prod</th>\n",
       "      <th>date</th>\n",
       "      <th>session_id</th>\n",
       "      <th>client_id</th>\n",
       "    </tr>\n",
       "  </thead>\n",
       "  <tbody>\n",
       "    <tr>\n",
       "      <th>3019</th>\n",
       "      <td>T_0</td>\n",
       "      <td>test_2021-03-01 02:30:02.237419</td>\n",
       "      <td>s_0</td>\n",
       "      <td>ct_0</td>\n",
       "    </tr>\n",
       "    <tr>\n",
       "      <th>5138</th>\n",
       "      <td>T_0</td>\n",
       "      <td>test_2021-03-01 02:30:02.237425</td>\n",
       "      <td>s_0</td>\n",
       "      <td>ct_0</td>\n",
       "    </tr>\n",
       "    <tr>\n",
       "      <th>9668</th>\n",
       "      <td>T_0</td>\n",
       "      <td>test_2021-03-01 02:30:02.237437</td>\n",
       "      <td>s_0</td>\n",
       "      <td>ct_1</td>\n",
       "    </tr>\n",
       "    <tr>\n",
       "      <th>10728</th>\n",
       "      <td>T_0</td>\n",
       "      <td>test_2021-03-01 02:30:02.237436</td>\n",
       "      <td>s_0</td>\n",
       "      <td>ct_0</td>\n",
       "    </tr>\n",
       "    <tr>\n",
       "      <th>15292</th>\n",
       "      <td>T_0</td>\n",
       "      <td>test_2021-03-01 02:30:02.237430</td>\n",
       "      <td>s_0</td>\n",
       "      <td>ct_0</td>\n",
       "    </tr>\n",
       "  </tbody>\n",
       "</table>\n",
       "</div>"
      ],
      "text/plain": [
       "      id_prod                             date session_id client_id\n",
       "3019      T_0  test_2021-03-01 02:30:02.237419        s_0      ct_0\n",
       "5138      T_0  test_2021-03-01 02:30:02.237425        s_0      ct_0\n",
       "9668      T_0  test_2021-03-01 02:30:02.237437        s_0      ct_1\n",
       "10728     T_0  test_2021-03-01 02:30:02.237436        s_0      ct_0\n",
       "15292     T_0  test_2021-03-01 02:30:02.237430        s_0      ct_0"
      ]
     },
     "execution_count": 20,
     "metadata": {},
     "output_type": "execute_result"
    }
   ],
   "source": [
    "pk_dups.head()"
   ]
  },
  {
   "cell_type": "markdown",
   "id": "d34c85d3-71a4-4964-bad3-3ddd756c6a92",
   "metadata": {},
   "source": [
    "Les transactions possédant la même clé primaire correspondent à des tests. On va les éliminer du dataset. Cela nous permettra également de convertir la colonne `date` au format `datetime`."
   ]
  },
  {
   "cell_type": "code",
   "execution_count": 21,
   "id": "354c0f46-d828-4052-a9c6-3a56db8b64f5",
   "metadata": {},
   "outputs": [
    {
     "name": "stdout",
     "output_type": "stream",
     "text": [
      "Nombre de transactions tests : 200\n"
     ]
    }
   ],
   "source": [
    "# on sélectionne les lignes dont la date commence par le mot \"test\"\n",
    "mask = transactions['date'].str.startswith('test')\n",
    "n_tests = transactions.loc[mask].shape[0]\n",
    "\n",
    "print(f\"Nombre de transactions tests : {n_tests}\")"
   ]
  },
  {
   "cell_type": "code",
   "execution_count": 22,
   "id": "07969d3c",
   "metadata": {},
   "outputs": [
    {
     "data": {
      "text/html": [
       "<div>\n",
       "<style scoped>\n",
       "    .dataframe tbody tr th:only-of-type {\n",
       "        vertical-align: middle;\n",
       "    }\n",
       "\n",
       "    .dataframe tbody tr th {\n",
       "        vertical-align: top;\n",
       "    }\n",
       "\n",
       "    .dataframe thead th {\n",
       "        text-align: right;\n",
       "    }\n",
       "</style>\n",
       "<table border=\"1\" class=\"dataframe\">\n",
       "  <thead>\n",
       "    <tr style=\"text-align: right;\">\n",
       "      <th></th>\n",
       "      <th>id_prod</th>\n",
       "      <th>session_id</th>\n",
       "      <th>client_id</th>\n",
       "    </tr>\n",
       "  </thead>\n",
       "  <tbody>\n",
       "    <tr>\n",
       "      <th>3019</th>\n",
       "      <td>T_0</td>\n",
       "      <td>s_0</td>\n",
       "      <td>ct_0</td>\n",
       "    </tr>\n",
       "    <tr>\n",
       "      <th>9668</th>\n",
       "      <td>T_0</td>\n",
       "      <td>s_0</td>\n",
       "      <td>ct_1</td>\n",
       "    </tr>\n",
       "  </tbody>\n",
       "</table>\n",
       "</div>"
      ],
      "text/plain": [
       "     id_prod session_id client_id\n",
       "3019     T_0        s_0      ct_0\n",
       "9668     T_0        s_0      ct_1"
      ]
     },
     "execution_count": 22,
     "metadata": {},
     "output_type": "execute_result"
    }
   ],
   "source": [
    "# on affiche pour ces lignes les valeurs uniques des colonnes \"id_prod\",\n",
    "# \"session_id\" et \"client_id\"\n",
    "transactions.loc[mask, ['id_prod', 'session_id', 'client_id']].drop_duplicates()"
   ]
  },
  {
   "cell_type": "code",
   "execution_count": 23,
   "id": "c675badb",
   "metadata": {},
   "outputs": [
    {
     "name": "stdout",
     "output_type": "stream",
     "text": [
      "200\n",
      "200\n",
      "200\n"
     ]
    }
   ],
   "source": [
    "# on vérifie que ces valeurs ne sont pas utilisées pour d'autres transactions\n",
    "masks = [\n",
    "    transactions['id_prod'] == 'T_0',\n",
    "    transactions['session_id'] == 's_0',\n",
    "    transactions['client_id'].isin(['ct_0', 'ct_1'])\n",
    "]\n",
    "\n",
    "for mask in masks:\n",
    "    print(transactions.loc[mask].shape[0])"
   ]
  },
  {
   "cell_type": "markdown",
   "id": "f579b3bf-1402-439f-bae3-3cfa78693ba1",
   "metadata": {},
   "source": [
    "Ces valeurs n'ont été utilisées que pour les tests. On peut supprimer ces derniers de la table."
   ]
  },
  {
   "cell_type": "code",
   "execution_count": 24,
   "id": "6decac02",
   "metadata": {},
   "outputs": [],
   "source": [
    "# on élimine les lignes correspondant aux tests\n",
    "mask = transactions['id_prod'] != 'T_0'\n",
    "transactions = transactions.loc[mask]"
   ]
  },
  {
   "cell_type": "markdown",
   "id": "0edc8abd",
   "metadata": {},
   "source": [
    "On peut également supprimer les clients fictifs \"ct_0\" et \"ct_1\" de la table `customers` et le produit \"T_0\" de la table `products`."
   ]
  },
  {
   "cell_type": "code",
   "execution_count": 25,
   "id": "7707ca62",
   "metadata": {},
   "outputs": [
    {
     "name": "stdout",
     "output_type": "stream",
     "text": [
      "Nombre de lignes supprimées de la table `customers` : 2\n"
     ]
    }
   ],
   "source": [
    "n_rows_before = customers.shape[0]\n",
    "customers = customers.loc[~(customers['client_id'].isin(['ct_0', 'ct_1']))]\n",
    "n_rows_after = customers.shape[0]\n",
    "n_deleted = n_rows_before - n_rows_after\n",
    "\n",
    "print(f\"Nombre de lignes supprimées de la table `customers` : {n_deleted}\")"
   ]
  },
  {
   "cell_type": "code",
   "execution_count": 26,
   "id": "e1e49c59",
   "metadata": {},
   "outputs": [
    {
     "name": "stdout",
     "output_type": "stream",
     "text": [
      "Nombre de lignes supprimées de la table `products` : 1\n"
     ]
    }
   ],
   "source": [
    "n_rows_before = products.shape[0]\n",
    "products = products.loc[products['id_prod'] != 'T_0']\n",
    "n_rows_after = products.shape[0]\n",
    "n_deleted = n_rows_before - n_rows_after\n",
    "\n",
    "print(f\"Nombre de lignes supprimées de la table `products` : {n_deleted}\")"
   ]
  },
  {
   "cell_type": "code",
   "execution_count": 27,
   "id": "5adc20d5-7164-4a51-82db-f39529f64f71",
   "metadata": {},
   "outputs": [
    {
     "name": "stdout",
     "output_type": "stream",
     "text": [
      "La table contient 679332 observations et 4 variables.\n",
      "\n",
      "Aperçu de la table\n"
     ]
    },
    {
     "data": {
      "text/html": [
       "<div>\n",
       "<style scoped>\n",
       "    .dataframe tbody tr th:only-of-type {\n",
       "        vertical-align: middle;\n",
       "    }\n",
       "\n",
       "    .dataframe tbody tr th {\n",
       "        vertical-align: top;\n",
       "    }\n",
       "\n",
       "    .dataframe thead th {\n",
       "        text-align: right;\n",
       "    }\n",
       "</style>\n",
       "<table border=\"1\" class=\"dataframe\">\n",
       "  <thead>\n",
       "    <tr style=\"text-align: right;\">\n",
       "      <th></th>\n",
       "      <th>id_prod</th>\n",
       "      <th>date</th>\n",
       "      <th>session_id</th>\n",
       "      <th>client_id</th>\n",
       "    </tr>\n",
       "  </thead>\n",
       "  <tbody>\n",
       "    <tr>\n",
       "      <th>0</th>\n",
       "      <td>0_1518</td>\n",
       "      <td>2022-05-20 13:21:29.043970</td>\n",
       "      <td>s_211425</td>\n",
       "      <td>c_103</td>\n",
       "    </tr>\n",
       "    <tr>\n",
       "      <th>1</th>\n",
       "      <td>1_251</td>\n",
       "      <td>2022-02-02 07:55:19.149409</td>\n",
       "      <td>s_158752</td>\n",
       "      <td>c_8534</td>\n",
       "    </tr>\n",
       "    <tr>\n",
       "      <th>2</th>\n",
       "      <td>0_1277</td>\n",
       "      <td>2022-06-18 15:44:33.155329</td>\n",
       "      <td>s_225667</td>\n",
       "      <td>c_6714</td>\n",
       "    </tr>\n",
       "  </tbody>\n",
       "</table>\n",
       "</div>"
      ],
      "text/plain": [
       "  id_prod                        date session_id client_id\n",
       "0  0_1518  2022-05-20 13:21:29.043970   s_211425     c_103\n",
       "1   1_251  2022-02-02 07:55:19.149409   s_158752    c_8534\n",
       "2  0_1277  2022-06-18 15:44:33.155329   s_225667    c_6714"
      ]
     },
     "metadata": {},
     "output_type": "display_data"
    },
    {
     "name": "stdout",
     "output_type": "stream",
     "text": [
      "\n",
      "Description des variables\n"
     ]
    },
    {
     "data": {
      "text/html": [
       "<div>\n",
       "<style scoped>\n",
       "    .dataframe tbody tr th:only-of-type {\n",
       "        vertical-align: middle;\n",
       "    }\n",
       "\n",
       "    .dataframe tbody tr th {\n",
       "        vertical-align: top;\n",
       "    }\n",
       "\n",
       "    .dataframe thead th {\n",
       "        text-align: right;\n",
       "    }\n",
       "</style>\n",
       "<table border=\"1\" class=\"dataframe\">\n",
       "  <thead>\n",
       "    <tr style=\"text-align: right;\">\n",
       "      <th></th>\n",
       "      <th>Compte</th>\n",
       "      <th>Doublons</th>\n",
       "      <th>Valeurs manquantes</th>\n",
       "      <th>Modalités</th>\n",
       "      <th>Type</th>\n",
       "    </tr>\n",
       "  </thead>\n",
       "  <tbody>\n",
       "    <tr>\n",
       "      <th>id_prod</th>\n",
       "      <td>679332</td>\n",
       "      <td>676066</td>\n",
       "      <td>0</td>\n",
       "      <td>3266</td>\n",
       "      <td>string</td>\n",
       "    </tr>\n",
       "    <tr>\n",
       "      <th>date</th>\n",
       "      <td>679332</td>\n",
       "      <td>0</td>\n",
       "      <td>0</td>\n",
       "      <td>679332</td>\n",
       "      <td>object</td>\n",
       "    </tr>\n",
       "    <tr>\n",
       "      <th>session_id</th>\n",
       "      <td>679332</td>\n",
       "      <td>337017</td>\n",
       "      <td>0</td>\n",
       "      <td>342315</td>\n",
       "      <td>string</td>\n",
       "    </tr>\n",
       "    <tr>\n",
       "      <th>client_id</th>\n",
       "      <td>679332</td>\n",
       "      <td>670732</td>\n",
       "      <td>0</td>\n",
       "      <td>8600</td>\n",
       "      <td>string</td>\n",
       "    </tr>\n",
       "  </tbody>\n",
       "</table>\n",
       "</div>"
      ],
      "text/plain": [
       "            Compte  Doublons  Valeurs manquantes  Modalités    Type\n",
       "id_prod     679332    676066                   0       3266  string\n",
       "date        679332         0                   0     679332  object\n",
       "session_id  679332    337017                   0     342315  string\n",
       "client_id   679332    670732                   0       8600  string"
      ]
     },
     "metadata": {},
     "output_type": "display_data"
    },
    {
     "name": "stdout",
     "output_type": "stream",
     "text": [
      "\n",
      "Clé primaire\n",
      "------------\n",
      "Toutes les valeurs de la clé primaire ['date', 'session_id'] sont uniques.\n",
      "Aucune des valeurs de ['date', 'session_id'] n'est manquante.\n"
     ]
    }
   ],
   "source": [
    "describe_table(transactions, pk=['date', 'session_id'])"
   ]
  },
  {
   "cell_type": "markdown",
   "id": "33f5529d-6577-414e-89a6-a1f84dcf5e38",
   "metadata": {},
   "source": [
    "<div class=\"alert alert-block alert-info\">\n",
    "    <b>Note</b><br>\n",
    "    Plutôt que d'utiliser une clé primaire composée, on va créer une clé artificielle. A noter que toutes les valeurs de <code>date</code> étant uniques, on pourrait utiliser cette variable comme clé primaire. Cependant, cela ne nous semble pas être une bonne pratique car on ne peut pas écarter la possibilité que deux achats soient effectués en même temps (à la microseconde près) à l'avenir.\n",
    "</div>"
   ]
  },
  {
   "cell_type": "code",
   "execution_count": 28,
   "id": "c260eb5f-1044-403b-8e9e-1c63b5b71e6c",
   "metadata": {},
   "outputs": [
    {
     "data": {
      "text/html": [
       "<div>\n",
       "<style scoped>\n",
       "    .dataframe tbody tr th:only-of-type {\n",
       "        vertical-align: middle;\n",
       "    }\n",
       "\n",
       "    .dataframe tbody tr th {\n",
       "        vertical-align: top;\n",
       "    }\n",
       "\n",
       "    .dataframe thead th {\n",
       "        text-align: right;\n",
       "    }\n",
       "</style>\n",
       "<table border=\"1\" class=\"dataframe\">\n",
       "  <thead>\n",
       "    <tr style=\"text-align: right;\">\n",
       "      <th></th>\n",
       "      <th>id_prod</th>\n",
       "      <th>date</th>\n",
       "      <th>session_id</th>\n",
       "      <th>client_id</th>\n",
       "      <th>id_txn</th>\n",
       "    </tr>\n",
       "  </thead>\n",
       "  <tbody>\n",
       "    <tr>\n",
       "      <th>0</th>\n",
       "      <td>0_1518</td>\n",
       "      <td>2022-05-20 13:21:29.043970</td>\n",
       "      <td>s_211425</td>\n",
       "      <td>c_103</td>\n",
       "      <td>t_0</td>\n",
       "    </tr>\n",
       "    <tr>\n",
       "      <th>1</th>\n",
       "      <td>1_251</td>\n",
       "      <td>2022-02-02 07:55:19.149409</td>\n",
       "      <td>s_158752</td>\n",
       "      <td>c_8534</td>\n",
       "      <td>t_1</td>\n",
       "    </tr>\n",
       "    <tr>\n",
       "      <th>2</th>\n",
       "      <td>0_1277</td>\n",
       "      <td>2022-06-18 15:44:33.155329</td>\n",
       "      <td>s_225667</td>\n",
       "      <td>c_6714</td>\n",
       "      <td>t_2</td>\n",
       "    </tr>\n",
       "  </tbody>\n",
       "</table>\n",
       "</div>"
      ],
      "text/plain": [
       "  id_prod                        date session_id client_id id_txn\n",
       "0  0_1518  2022-05-20 13:21:29.043970   s_211425     c_103    t_0\n",
       "1   1_251  2022-02-02 07:55:19.149409   s_158752    c_8534    t_1\n",
       "2  0_1277  2022-06-18 15:44:33.155329   s_225667    c_6714    t_2"
      ]
     },
     "execution_count": 28,
     "metadata": {},
     "output_type": "execute_result"
    }
   ],
   "source": [
    "# on crée une clé artificielle\n",
    "transactions['id_txn'] = np.arange(transactions.shape[0])\n",
    "transactions['id_txn'] = 't_' + transactions['id_txn'].astype('string')\n",
    "transactions['id_txn'] = transactions['id_txn'].astype('string')\n",
    "transactions.head(3)"
   ]
  },
  {
   "cell_type": "markdown",
   "id": "c949b5bd",
   "metadata": {},
   "source": [
    "On peut maintenant changer le dtype de `date` en `datetime`."
   ]
  },
  {
   "cell_type": "code",
   "execution_count": 29,
   "id": "001f3dac",
   "metadata": {},
   "outputs": [],
   "source": [
    "transactions['date'] = pd.to_datetime(transactions['date'])"
   ]
  },
  {
   "cell_type": "markdown",
   "id": "1e30c1e8",
   "metadata": {},
   "source": [
    "On extrait le jour de chaque transaction à partir de la date."
   ]
  },
  {
   "cell_type": "code",
   "execution_count": 30,
   "id": "574c3cf3",
   "metadata": {},
   "outputs": [],
   "source": [
    "transactions['day'] = transactions['date'].dt.strftime('%Y-%m-%d')\n",
    "transactions['day'] = pd.to_datetime(transactions['day'])"
   ]
  },
  {
   "cell_type": "code",
   "execution_count": 31,
   "id": "e7475563",
   "metadata": {},
   "outputs": [
    {
     "name": "stdout",
     "output_type": "stream",
     "text": [
      "<class 'pandas.core.frame.DataFrame'>\n",
      "Int64Index: 679332 entries, 0 to 679531\n",
      "Data columns (total 6 columns):\n",
      " #   Column      Non-Null Count   Dtype         \n",
      "---  ------      --------------   -----         \n",
      " 0   id_prod     679332 non-null  string        \n",
      " 1   date        679332 non-null  datetime64[ns]\n",
      " 2   session_id  679332 non-null  string        \n",
      " 3   client_id   679332 non-null  string        \n",
      " 4   id_txn      679332 non-null  string        \n",
      " 5   day         679332 non-null  datetime64[ns]\n",
      "dtypes: datetime64[ns](2), string(4)\n",
      "memory usage: 36.3 MB\n"
     ]
    }
   ],
   "source": [
    "transactions.info()"
   ]
  },
  {
   "cell_type": "code",
   "execution_count": 32,
   "id": "c6de40a3-890f-4b30-b043-99d154c658c1",
   "metadata": {},
   "outputs": [],
   "source": [
    "# on pickle les dataframes pour conserver les dtypes\n",
    "customers.to_pickle('../data/customers_cleaned.pkl')\n",
    "products.to_pickle('../data/products_cleaned.pkl')\n",
    "transactions.to_pickle('../data/transactions_cleaned.pkl')"
   ]
  },
  {
   "cell_type": "code",
   "execution_count": 33,
   "id": "63974fda-d266-43c9-945a-57bbf9d2d280",
   "metadata": {},
   "outputs": [],
   "source": [
    "transactions_cleaned = pd.read_pickle('../data/transactions_cleaned.pkl')"
   ]
  },
  {
   "cell_type": "code",
   "execution_count": 34,
   "id": "48701a32-4827-4c0b-999f-710a813ba4ef",
   "metadata": {},
   "outputs": [
    {
     "name": "stdout",
     "output_type": "stream",
     "text": [
      "<class 'pandas.core.frame.DataFrame'>\n",
      "Int64Index: 679332 entries, 0 to 679531\n",
      "Data columns (total 6 columns):\n",
      " #   Column      Non-Null Count   Dtype         \n",
      "---  ------      --------------   -----         \n",
      " 0   id_prod     679332 non-null  string        \n",
      " 1   date        679332 non-null  datetime64[ns]\n",
      " 2   session_id  679332 non-null  string        \n",
      " 3   client_id   679332 non-null  string        \n",
      " 4   id_txn      679332 non-null  string        \n",
      " 5   day         679332 non-null  datetime64[ns]\n",
      "dtypes: datetime64[ns](2), string(4)\n",
      "memory usage: 36.3 MB\n"
     ]
    }
   ],
   "source": [
    "# on vérifie que les dtypes ont bien été conservés après import\n",
    "transactions_cleaned.info()"
   ]
  }
 ],
 "metadata": {
  "kernelspec": {
   "display_name": "Python 3 (ipykernel)",
   "language": "python",
   "name": "python3"
  },
  "language_info": {
   "codemirror_mode": {
    "name": "ipython",
    "version": 3
   },
   "file_extension": ".py",
   "mimetype": "text/x-python",
   "name": "python",
   "nbconvert_exporter": "python",
   "pygments_lexer": "ipython3",
   "version": "3.9.12"
  },
  "toc": {
   "base_numbering": 1,
   "nav_menu": {},
   "number_sections": true,
   "sideBar": true,
   "skip_h1_title": false,
   "title_cell": "Table of Contents",
   "title_sidebar": "Contents",
   "toc_cell": true,
   "toc_position": {
    "height": "calc(100% - 180px)",
    "left": "10px",
    "top": "150px",
    "width": "469.333px"
   },
   "toc_section_display": true,
   "toc_window_display": true
  },
  "toc-autonumbering": true,
  "toc-showcode": false
 },
 "nbformat": 4,
 "nbformat_minor": 5
}
